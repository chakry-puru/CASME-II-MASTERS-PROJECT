{
 "cells": [
  {
   "cell_type": "code",
   "execution_count": 1,
   "metadata": {},
   "outputs": [],
   "source": [
    "import os, cv2, matplotlib as plt, numpy as np, pandas as pd,csv,glob\n",
    "from sklearn.preprocessing import LabelEncoder\n",
    "from sklearn.preprocessing import OneHotEncoder\n",
    "import array\n",
    "import tensorflow as tf\n"
   ]
  },
  {
   "cell_type": "code",
   "execution_count": 2,
   "metadata": {},
   "outputs": [],
   "source": [
    "\n",
    "df1 = pd.read_excel(r'D:\\Masters project\\Casme2\\CASME2-coding-20190701.xlsx',converters={'Subject': lambda x: str(x),'Filename': lambda x: str(x)},header=None)"
   ]
  },
  {
   "cell_type": "code",
   "execution_count": 3,
   "metadata": {},
   "outputs": [
    {
     "data": {
      "text/plain": [
       "'D:/Masters project/Casme2/Cropped-updated/Cropped/sub01/EP03_02'"
      ]
     },
     "execution_count": 3,
     "metadata": {},
     "output_type": "execute_result"
    }
   ],
   "source": [
    "temppath=\"D:\\Masters project\\Casme2\\Cropped-updated\\Cropped\\\\\"\n",
    "a=np.empty(len(df1.index)-1,dtype = 'object')  #store into numpy arrays\n",
    "\n",
    "for i in range(len(df1.index)-1):\n",
    "    a[i]=(temppath+'sub'+df1.loc[i+1,0]+'\\\\'+df1.loc[i+1,1])\n",
    "    a[i]=(a[i].replace(\"\\\\\", \"/\")) \n",
    "    \n",
    "    \n",
    "a[1] #"
   ]
  },
  {
   "cell_type": "code",
   "execution_count": 4,
   "metadata": {},
   "outputs": [
    {
     "name": "stdout",
     "output_type": "stream",
     "text": [
      "141\n"
     ]
    }
   ],
   "source": [
    "#max no of frames\n",
    "maxframes=0\n",
    "framecount=[]\n",
    "for j in range(1,len(df1.index)):\n",
    "    result= df1.loc[j,5]-df1.loc[j,3]\n",
    "    #print(result)\n",
    "    framecount.append(result+1)\n",
    "    if result>maxframes:\n",
    "        maxframes=result+1\n",
    "    elif result==maxframes:\n",
    "        maxframes=result+1\n",
    "    else:\n",
    "        pass\n",
    "    \n",
    "print(maxframes)\n",
    "    \n",
    "    \n",
    "    \n",
    "    \n",
    "    \n",
    "    \n",
    "#framecount    "
   ]
  },
  {
   "cell_type": "code",
   "execution_count": 5,
   "metadata": {},
   "outputs": [
    {
     "data": {
      "text/html": [
       "<div>\n",
       "<style scoped>\n",
       "    .dataframe tbody tr th:only-of-type {\n",
       "        vertical-align: middle;\n",
       "    }\n",
       "\n",
       "    .dataframe tbody tr th {\n",
       "        vertical-align: top;\n",
       "    }\n",
       "\n",
       "    .dataframe thead th {\n",
       "        text-align: right;\n",
       "    }\n",
       "</style>\n",
       "<table border=\"1\" class=\"dataframe\">\n",
       "  <thead>\n",
       "    <tr style=\"text-align: right;\">\n",
       "      <th></th>\n",
       "      <th>0</th>\n",
       "      <th>1</th>\n",
       "      <th>2</th>\n",
       "      <th>3</th>\n",
       "      <th>4</th>\n",
       "      <th>5</th>\n",
       "      <th>6</th>\n",
       "      <th>7</th>\n",
       "      <th>8</th>\n",
       "    </tr>\n",
       "  </thead>\n",
       "  <tbody>\n",
       "    <tr>\n",
       "      <td>1</td>\n",
       "      <td>01</td>\n",
       "      <td>EP02_01f</td>\n",
       "      <td>NaN</td>\n",
       "      <td>46</td>\n",
       "      <td>59</td>\n",
       "      <td>86</td>\n",
       "      <td>NaN</td>\n",
       "      <td>12</td>\n",
       "      <td>happiness</td>\n",
       "    </tr>\n",
       "    <tr>\n",
       "      <td>2</td>\n",
       "      <td>01</td>\n",
       "      <td>EP03_02</td>\n",
       "      <td>NaN</td>\n",
       "      <td>131</td>\n",
       "      <td>139</td>\n",
       "      <td>161</td>\n",
       "      <td>NaN</td>\n",
       "      <td>18</td>\n",
       "      <td>others</td>\n",
       "    </tr>\n",
       "    <tr>\n",
       "      <td>3</td>\n",
       "      <td>01</td>\n",
       "      <td>EP04_02</td>\n",
       "      <td>NaN</td>\n",
       "      <td>21</td>\n",
       "      <td>54</td>\n",
       "      <td>76</td>\n",
       "      <td>NaN</td>\n",
       "      <td>4</td>\n",
       "      <td>others</td>\n",
       "    </tr>\n",
       "    <tr>\n",
       "      <td>4</td>\n",
       "      <td>01</td>\n",
       "      <td>EP04_03</td>\n",
       "      <td>NaN</td>\n",
       "      <td>31</td>\n",
       "      <td>41</td>\n",
       "      <td>56</td>\n",
       "      <td>NaN</td>\n",
       "      <td>4</td>\n",
       "      <td>others</td>\n",
       "    </tr>\n",
       "    <tr>\n",
       "      <td>5</td>\n",
       "      <td>01</td>\n",
       "      <td>EP04_04</td>\n",
       "      <td>NaN</td>\n",
       "      <td>23</td>\n",
       "      <td>49</td>\n",
       "      <td>66</td>\n",
       "      <td>NaN</td>\n",
       "      <td>4</td>\n",
       "      <td>others</td>\n",
       "    </tr>\n",
       "  </tbody>\n",
       "</table>\n",
       "</div>"
      ],
      "text/plain": [
       "    0         1   2    3    4    5   6   7          8\n",
       "1  01  EP02_01f NaN   46   59   86 NaN  12  happiness\n",
       "2  01   EP03_02 NaN  131  139  161 NaN  18     others\n",
       "3  01   EP04_02 NaN   21   54   76 NaN   4     others\n",
       "4  01   EP04_03 NaN   31   41   56 NaN   4     others\n",
       "5  01   EP04_04 NaN   23   49   66 NaN   4     others"
      ]
     },
     "execution_count": 5,
     "metadata": {},
     "output_type": "execute_result"
    }
   ],
   "source": [
    "#subjects array\n",
    "df=df1.drop(0)\n",
    "#print(df[0].unique())\n",
    "\n",
    "subjects=df[0].unique()\n",
    "\n",
    "df.head()\n",
    "#print(subjects)"
   ]
  },
  {
   "cell_type": "code",
   "execution_count": 6,
   "metadata": {},
   "outputs": [],
   "source": [
    "subjects, counts = np.unique(df[0].values,return_counts=True)"
   ]
  },
  {
   "cell_type": "code",
   "execution_count": 7,
   "metadata": {},
   "outputs": [
    {
     "data": {
      "text/plain": [
       "array(['01', '02', '03', '04', '05', '06', '07', '08', '09', '10', '11',\n",
       "       '12', '13', '14', '15', '16', '17', '18', '19', '20', '21', '22',\n",
       "       '23', '24', '25', '26'], dtype=object)"
      ]
     },
     "execution_count": 7,
     "metadata": {},
     "output_type": "execute_result"
    }
   ],
   "source": [
    "subjects"
   ]
  },
  {
   "cell_type": "code",
   "execution_count": 8,
   "metadata": {},
   "outputs": [
    {
     "data": {
      "text/plain": [
       "array([ 9, 13,  7,  5, 19,  5,  9,  3, 14, 14, 10, 12,  8,  4,  3,  4, 36,\n",
       "        3, 16, 11,  2,  2, 12, 10,  7, 17], dtype=int64)"
      ]
     },
     "execution_count": 8,
     "metadata": {},
     "output_type": "execute_result"
    }
   ],
   "source": [
    "counts #number of emotion videos per subject"
   ]
  },
  {
   "cell_type": "code",
   "execution_count": 9,
   "metadata": {},
   "outputs": [
    {
     "data": {
      "text/plain": [
       "'D:/Masters project/Casme2/Cropped-updated/Cropped/sub02/'"
      ]
     },
     "execution_count": 9,
     "metadata": {},
     "output_type": "execute_result"
    }
   ],
   "source": [
    "subpath=np.empty(len(subjects),dtype = 'object')\n",
    "k=0\n",
    "for i in range(len(subjects)):\n",
    "    subpath[i]=(temppath+'sub'+subjects[k]+'\\\\')\n",
    "    #subpath[i]=(subpath[i]+df1.loc[i+1,1])\n",
    "    subpath[i]=(subpath[i].replace(\"\\\\\", \"/\"))\n",
    "    k=k+1\n",
    "        \n",
    "subpath[1]"
   ]
  },
  {
   "cell_type": "code",
   "execution_count": 10,
   "metadata": {},
   "outputs": [
    {
     "data": {
      "text/plain": [
       "'D:/Masters project/Casme2/Cropped-updated/Cropped/sub01/EP03_02/'"
      ]
     },
     "execution_count": 10,
     "metadata": {},
     "output_type": "execute_result"
    }
   ],
   "source": [
    "emotionp=[]*len(df[1])\n",
    "for i in range(len(df[1])):\n",
    "    emotionp.append(temppath+'sub'+df.iloc[i,0]+'\\\\'+df.iloc[i,1]+'/')\n",
    "    emotionp[i]=(emotionp[i].replace(\"\\\\\", \"/\"))\n",
    "emotionp[1]"
   ]
  },
  {
   "cell_type": "code",
   "execution_count": 11,
   "metadata": {},
   "outputs": [],
   "source": [
    "def xxx(i):\n",
    "    tempr=[]\n",
    "    files=glob.glob(emotionp[i]+'*.jpg')\n",
    "    for file in files:\n",
    "        img=cv2.imread(file)\n",
    "        tempr.append(img)\n",
    "    ad=len(tempr)\n",
    "    img2=tempr[-1:]\n",
    "    tempr.extend((img2)*(maxframes-ad)) #141 is the max frames for padding\n",
    "    tempr=np.array(tempr,dtype='float32')\n",
    "    #tempr = np.reshape(tempr,[tempr.shape[0],tempr.shape[1]*tempr.shape[2]*tempr.shape[3]])\n",
    "    return tempr"
   ]
  },
  {
   "cell_type": "code",
   "execution_count": 12,
   "metadata": {},
   "outputs": [],
   "source": [
    "train_arr=np.empty([])\n",
    "test_arr=np.empty([])\n",
    "train_arr1=[]\n",
    "test_arr1=[]\n",
    "for j in range(len(emotionp)):\n",
    "    if j<=205:\n",
    "        #train_arr=np.hstack(xxx(j))\n",
    "        train_arr1.append(xxx(j))\n",
    "    elif j>205 & j<256:\n",
    "        #test_arr=np.hstack(xxx(j))\n",
    "        test_arr1.append(xxx(j))\n",
    "    \n",
    "    \n",
    "    "
   ]
  },
  {
   "cell_type": "code",
   "execution_count": 13,
   "metadata": {},
   "outputs": [],
   "source": [
    "label=[]\n",
    "for l in range(len(df[8])):\n",
    "    label.append(df.iloc[l,8])\n"
   ]
  },
  {
   "cell_type": "code",
   "execution_count": 14,
   "metadata": {},
   "outputs": [],
   "source": [
    "label_train=[]\n",
    "label_test=[]\n",
    "for lt in range(len(label)):\n",
    "    if lt<=205:\n",
    "        label_train.append(label[lt])\n",
    "    elif lt>205 & lt<256:\n",
    "        label_test.append(label[lt])"
   ]
  },
  {
   "cell_type": "code",
   "execution_count": 15,
   "metadata": {},
   "outputs": [],
   "source": [
    "le = LabelEncoder()\n",
    "\n",
    "integer_encoded= le.fit_transform(label_train)\n",
    "\n",
    "integer_encoded1= le.fit_transform(label_test)"
   ]
  },
  {
   "cell_type": "code",
   "execution_count": 16,
   "metadata": {},
   "outputs": [
    {
     "data": {
      "text/plain": [
       "array([3, 3, 3, 1, 0, 3, 3, 0, 2, 0, 0, 2, 3, 2, 2, 0, 0, 5, 5, 2, 2, 2,\n",
       "       5, 2, 5, 2, 2, 0, 0, 5, 5, 0, 1, 2, 2, 2, 0, 0, 2, 1, 0, 4, 0, 0,\n",
       "       2, 0, 0, 0, 0], dtype=int64)"
      ]
     },
     "execution_count": 16,
     "metadata": {},
     "output_type": "execute_result"
    }
   ],
   "source": [
    "integer_encoded\n",
    "integer_encoded1"
   ]
  },
  {
   "cell_type": "code",
   "execution_count": 17,
   "metadata": {},
   "outputs": [
    {
     "name": "stderr",
     "output_type": "stream",
     "text": [
      "C:\\Users\\chakr\\Anaconda3\\lib\\site-packages\\sklearn\\preprocessing\\_encoders.py:415: FutureWarning: The handling of integer data will change in version 0.22. Currently, the categories are determined based on the range [0, max(values)], while in the future they will be determined based on the unique values.\n",
      "If you want the future behaviour and silence this warning, you can specify \"categories='auto'\".\n",
      "In case you used a LabelEncoder before this OneHotEncoder to convert the categories to integers, then you can now use the OneHotEncoder directly.\n",
      "  warnings.warn(msg, FutureWarning)\n",
      "C:\\Users\\chakr\\Anaconda3\\lib\\site-packages\\sklearn\\preprocessing\\_encoders.py:415: FutureWarning: The handling of integer data will change in version 0.22. Currently, the categories are determined based on the range [0, max(values)], while in the future they will be determined based on the unique values.\n",
      "If you want the future behaviour and silence this warning, you can specify \"categories='auto'\".\n",
      "In case you used a LabelEncoder before this OneHotEncoder to convert the categories to integers, then you can now use the OneHotEncoder directly.\n",
      "  warnings.warn(msg, FutureWarning)\n"
     ]
    }
   ],
   "source": [
    "integer_encoded = integer_encoded.reshape(len(integer_encoded), 1)\n",
    "integer_encoded1 = integer_encoded1.reshape(len(integer_encoded1), 1)\n",
    "onehot_encoder = OneHotEncoder(sparse=False)\n",
    "label_train= onehot_encoder.fit_transform(integer_encoded)\n",
    "label_test= onehot_encoder.fit_transform(integer_encoded1)"
   ]
  },
  {
   "cell_type": "code",
   "execution_count": null,
   "metadata": {},
   "outputs": [],
   "source": []
  },
  {
   "cell_type": "code",
   "execution_count": null,
   "metadata": {},
   "outputs": [],
   "source": [
    "test_ds = tf.data.Dataset.from_tensor_slices((test_arr1))"
   ]
  },
  {
   "cell_type": "code",
   "execution_count": null,
   "metadata": {},
   "outputs": [],
   "source": []
  }
 ],
 "metadata": {
  "kernelspec": {
   "display_name": "Python 3",
   "language": "python",
   "name": "python3"
  },
  "language_info": {
   "codemirror_mode": {
    "name": "ipython",
    "version": 3
   },
   "file_extension": ".py",
   "mimetype": "text/x-python",
   "name": "python",
   "nbconvert_exporter": "python",
   "pygments_lexer": "ipython3",
   "version": "3.7.4"
  }
 },
 "nbformat": 4,
 "nbformat_minor": 2
}
