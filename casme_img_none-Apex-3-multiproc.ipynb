{
 "cells": [
  {
   "cell_type": "code",
   "execution_count": 1,
   "metadata": {
    "scrolled": true
   },
   "outputs": [],
   "source": [
    "import os, cv2, matplotlib as plt, numpy as np, pandas as pd,csv,glob\n",
    "from sklearn.preprocessing import LabelEncoder\n",
    "from sklearn.preprocessing import OneHotEncoder\n",
    "import array\n",
    "import tensorflow as tf\n",
    "import copy\n",
    "from tensorflow import keras\n",
    "\n",
    "from tensorflow.keras import layers\n",
    "import PIL\n",
    "from PIL import Image\n",
    "from sklearn.model_selection import train_test_split\n",
    "from sklearn.preprocessing import LabelBinarizer\n",
    "from tensorflow import keras\n",
    "from tensorflow.keras import layers\n",
    "import matplotlib.pyplot as plt\n",
    "from IPython.display import Image\n",
    "from tensorflow.keras.callbacks import TensorBoard\n",
    "import multiprocess\n",
    "from setup_img_3_1 import *\n",
    "import timeit"
   ]
  },
  {
   "cell_type": "code",
   "execution_count": 2,
   "metadata": {},
   "outputs": [],
   "source": [
    "#reading the csv file of CASME II\n",
    "df1 = pd.read_excel(r'D:\\Masters project\\Casme2\\CASME2-coding-20190701.xlsx',converters={'Subject': lambda x: str(x),'Filename': lambda x: str(x)},header=None)"
   ]
  },
  {
   "cell_type": "code",
   "execution_count": 3,
   "metadata": {},
   "outputs": [
    {
     "data": {
      "text/plain": [
       "255"
      ]
     },
     "execution_count": 3,
     "metadata": {},
     "output_type": "execute_result"
    }
   ],
   "source": [
    "#extracting the pathfiles for Dense Optical Flow images\n",
    "temppath=\"D:\\Masters project\\DenseSplit\\\\\"\n",
    "a=np.empty(len(df1.index)-1,dtype = 'object')  #store into numpy arrays\n",
    "\n",
    "for i in range(len(df1.index)-1):\n",
    "    a[i]=(temppath+'sub'+df1.loc[i+1,0]+'\\\\'+df1.loc[i+1,1])\n",
    "    a[i]=(a[i].replace(\"\\\\\", \"/\")) \n",
    "    \n",
    "    \n",
    "len(a) #"
   ]
  },
  {
   "cell_type": "code",
   "execution_count": 4,
   "metadata": {},
   "outputs": [],
   "source": [
    "#Dropping the imbalanced expresseion sequences\n",
    "df=df1.drop(0)\n",
    "#print(df[0].unique())\n",
    "\n",
    "subjects=df[0].unique()\n",
    "\n",
    "df.head()\n",
    "#print(subjects)\n",
    "df.drop(df[df[8]=='others'].index, inplace = True)\n",
    "df.drop(df[df[8]=='sadness'].index, inplace = True)\n",
    "df.drop(df[df[8]=='fear'].index, inplace = True)\n",
    "#df.drop(df[df[8]=='disgust'].index, inplace = True)\n",
    "#df.drop(df[df[8]=='happiness'].index, inplace = True)"
   ]
  },
  {
   "cell_type": "code",
   "execution_count": 57,
   "metadata": {},
   "outputs": [
    {
     "data": {
      "text/plain": [
       "[16,\n",
       " 23,\n",
       " 38,\n",
       " 48,\n",
       " 51,\n",
       " 68,\n",
       " 68,\n",
       " 31,\n",
       " 33,\n",
       " 56,\n",
       " 33,\n",
       " 36,\n",
       " 21,\n",
       " 63,\n",
       " 18,\n",
       " 58,\n",
       " 23,\n",
       " 32,\n",
       " 34,\n",
       " 40,\n",
       " 33,\n",
       " 43,\n",
       " 36,\n",
       " 31,\n",
       " 46,\n",
       " 3,\n",
       " 28,\n",
       " 33,\n",
       " 35,\n",
       " 26,\n",
       " 23,\n",
       " 33,\n",
       " 58,\n",
       " 48,\n",
       " 36,\n",
       " 31,\n",
       " 40,\n",
       " 56,\n",
       " 41,\n",
       " 81,\n",
       " 68,\n",
       " 48,\n",
       " 58,\n",
       " 41,\n",
       " 46,\n",
       " 38,\n",
       " 38,\n",
       " 28,\n",
       " 63,\n",
       " 46,\n",
       " 48,\n",
       " 71,\n",
       " 23,\n",
       " 72,\n",
       " 23,\n",
       " 43,\n",
       " 38,\n",
       " 41,\n",
       " 26,\n",
       " 46,\n",
       " 48,\n",
       " 56,\n",
       " 58,\n",
       " 28,\n",
       " 26,\n",
       " 53,\n",
       " 51,\n",
       " 36,\n",
       " 28,\n",
       " 36,\n",
       " 43,\n",
       " 24,\n",
       " 91,\n",
       " 8,\n",
       " 61,\n",
       " 18,\n",
       " 31,\n",
       " 31,\n",
       " 23,\n",
       " 46,\n",
       " 24,\n",
       " 39,\n",
       " 69,\n",
       " 38,\n",
       " 51,\n",
       " 36,\n",
       " 26,\n",
       " 21,\n",
       " 23,\n",
       " 12,\n",
       " 41,\n",
       " 53,\n",
       " 48,\n",
       " 20,\n",
       " 25,\n",
       " 48,\n",
       " 28,\n",
       " 31,\n",
       " 21,\n",
       " 26,\n",
       " 43,\n",
       " 25,\n",
       " 24,\n",
       " 36,\n",
       " 71,\n",
       " 28,\n",
       " 31,\n",
       " 31,\n",
       " 46,\n",
       " 23,\n",
       " 36,\n",
       " 26,\n",
       " 21,\n",
       " 26,\n",
       " 33,\n",
       " 28,\n",
       " 21,\n",
       " 33,\n",
       " 72,\n",
       " 68,\n",
       " 53,\n",
       " 43,\n",
       " 78,\n",
       " 38,\n",
       " 38,\n",
       " 41,\n",
       " 46,\n",
       " 23,\n",
       " 39,\n",
       " 26,\n",
       " 20,\n",
       " 23,\n",
       " 25,\n",
       " 26,\n",
       " 28,\n",
       " 31,\n",
       " 33,\n",
       " 23,\n",
       " 43,\n",
       " 36,\n",
       " 28,\n",
       " 33,\n",
       " 25,\n",
       " 42,\n",
       " 31,\n",
       " 28,\n",
       " 46,\n",
       " 41,\n",
       " 24,\n",
       " 46]"
      ]
     },
     "execution_count": 57,
     "metadata": {},
     "output_type": "execute_result"
    }
   ],
   "source": [
    "#max no of frames\n",
    "maxframes=0\n",
    "framecount=[]\n",
    "for j in range(len(df.index)):\n",
    "    result= df.iloc[j,4]-df.iloc[j,3]\n",
    "    #print(result)\n",
    "    framecount.append(result+3)\n",
    "    \n",
    "framecount\n",
    "    \n",
    "    "
   ]
  },
  {
   "cell_type": "code",
   "execution_count": 58,
   "metadata": {},
   "outputs": [],
   "source": [
    "#df.head"
   ]
  },
  {
   "cell_type": "code",
   "execution_count": 59,
   "metadata": {},
   "outputs": [
    {
     "data": {
      "text/plain": [
       "(59, 46)"
      ]
     },
     "execution_count": 59,
     "metadata": {},
     "output_type": "execute_result"
    }
   ],
   "source": [
    "df.iloc[0,4],df.iloc[0,3]"
   ]
  },
  {
   "cell_type": "code",
   "execution_count": 60,
   "metadata": {},
   "outputs": [],
   "source": [
    "#Extracting the Subjects for dataset\n",
    "subjects, counts = np.unique(df[0].values,return_counts=True)"
   ]
  },
  {
   "cell_type": "code",
   "execution_count": 61,
   "metadata": {},
   "outputs": [
    {
     "data": {
      "text/plain": [
       "'D:/Masters project/DenseSplit/sub02/'"
      ]
     },
     "execution_count": 61,
     "metadata": {},
     "output_type": "execute_result"
    }
   ],
   "source": [
    "#subject path for the dataset using subjects\n",
    "subpath=np.empty(len(subjects),dtype = 'object')\n",
    "k=0\n",
    "for i in range(len(subjects)):\n",
    "    subpath[i]=(temppath+'sub'+subjects[k]+'\\\\')\n",
    "    #subpath[i]=(subpath[i]+df1.loc[i+1,1])\n",
    "    subpath[i]=(subpath[i].replace(\"\\\\\", \"/\"))\n",
    "    k=k+1\n",
    "        \n",
    "subpath[1]"
   ]
  },
  {
   "cell_type": "code",
   "execution_count": 62,
   "metadata": {},
   "outputs": [
    {
     "data": {
      "text/plain": [
       "'D:/Masters project/DenseSplit/sub26/EP18_51/'"
      ]
     },
     "execution_count": 62,
     "metadata": {},
     "output_type": "execute_result"
    }
   ],
   "source": [
    "#extrainct the emotion path based on Subject path\n",
    "emotionp=[]*len(df[1])\n",
    "for i in range(len(df[1])):\n",
    "    emotionp.append(temppath+'sub'+df.iloc[i,0]+'\\\\'+df.iloc[i,1]+'/')\n",
    "    emotionp[i]=(emotionp[i].replace(\"\\\\\", \"/\"))\n",
    "emotionp[i]"
   ]
  },
  {
   "cell_type": "code",
   "execution_count": null,
   "metadata": {},
   "outputs": [],
   "source": []
  },
  {
   "cell_type": "code",
   "execution_count": 78,
   "metadata": {},
   "outputs": [],
   "source": [
    "#empty list for pathfile of each emotion\n",
    "pathd=[]"
   ]
  },
  {
   "cell_type": "code",
   "execution_count": 79,
   "metadata": {},
   "outputs": [
    {
     "data": {
      "text/plain": [
       "'D:/Masters project/DenseSplit/sub01/EP02_01f/14.png'"
      ]
     },
     "execution_count": 79,
     "metadata": {},
     "output_type": "execute_result"
    }
   ],
   "source": [
    "#appending all the images for the emotion paths\n",
    "for i in range(len(emotionp)):\n",
    "    pathff=[]\n",
    "    img_file=framecount[i]-2\n",
    "    files=glob.glob(emotionp[i]+str(img_file)+'.png')\n",
    "    #last=max(files,key=os.path.getctime)    \n",
    "    #print(last)\n",
    "    for file in files:\n",
    "        pathff.append(file)\n",
    "        file=file.replace(\"\\\\\", \"/\")\n",
    "    #print(file)\n",
    "    #print('')\n",
    "    #print(file)\n",
    "    #print('')\n",
    "    ad=len(pathff)\n",
    "    #print(ad)\n",
    "    #PADDING\n",
    "    #for j in range(maxframes-ad):\n",
    "    #pathff.append(file)\n",
    "    pathd.extend(pathff)\n",
    "\n",
    "pathd[0]"
   ]
  },
  {
   "cell_type": "code",
   "execution_count": 80,
   "metadata": {},
   "outputs": [
    {
     "data": {
      "text/plain": [
       "'D:/Masters project/DenseSplit/sub01/EP02_01f/14.png'"
      ]
     },
     "execution_count": 80,
     "metadata": {},
     "output_type": "execute_result"
    }
   ],
   "source": [
    "#Correcting the Pathfiles\n",
    "for i in range(len(pathd)):\n",
    "        pathd[i]=pathd[i].replace(\"\\\\\",\"/\")\n",
    "\n",
    "pathd[0]"
   ]
  },
  {
   "cell_type": "code",
   "execution_count": 81,
   "metadata": {},
   "outputs": [
    {
     "data": {
      "text/plain": [
       "['D:/Masters project/DenseSplit/sub01/EP02_01f/14.png',\n",
       " 'D:/Masters project/DenseSplit/sub01/EP19_05f/21.png',\n",
       " 'D:/Masters project/DenseSplit/sub01/EP19_06f/36.png',\n",
       " 'D:/Masters project/DenseSplit/sub02/EP01_11f/46.png',\n",
       " 'D:/Masters project/DenseSplit/sub02/EP02_04f/49.png',\n",
       " 'D:/Masters project/DenseSplit/sub02/EP03_02f/66.png',\n",
       " 'D:/Masters project/DenseSplit/sub02/EP06_01f/66.png',\n",
       " 'D:/Masters project/DenseSplit/sub02/EP06_02f/29.png',\n",
       " 'D:/Masters project/DenseSplit/sub02/EP09_01/31.png',\n",
       " 'D:/Masters project/DenseSplit/sub02/EP11_01/54.png',\n",
       " 'D:/Masters project/DenseSplit/sub02/EP13_04/31.png',\n",
       " 'D:/Masters project/DenseSplit/sub02/EP14_01/34.png',\n",
       " 'D:/Masters project/DenseSplit/sub03/EP01_2/19.png',\n",
       " 'D:/Masters project/DenseSplit/sub03/EP07_04/61.png',\n",
       " 'D:/Masters project/DenseSplit/sub03/EP09_03/16.png',\n",
       " 'D:/Masters project/DenseSplit/sub03/EP18_06/56.png',\n",
       " 'D:/Masters project/DenseSplit/sub03/EP19_08/21.png',\n",
       " 'D:/Masters project/DenseSplit/sub04/EP12_01f/30.png',\n",
       " 'D:/Masters project/DenseSplit/sub04/EP12_02f/32.png',\n",
       " 'D:/Masters project/DenseSplit/sub04/EP13_06f/38.png',\n",
       " 'D:/Masters project/DenseSplit/sub05/EP02_07/31.png',\n",
       " 'D:/Masters project/DenseSplit/sub05/EP03_01/41.png',\n",
       " 'D:/Masters project/DenseSplit/sub05/EP03_06/34.png',\n",
       " 'D:/Masters project/DenseSplit/sub05/EP04_05/29.png',\n",
       " 'D:/Masters project/DenseSplit/sub05/EP04_06/44.png',\n",
       " 'D:/Masters project/DenseSplit/sub05/EP09_05f/1.png',\n",
       " 'D:/Masters project/DenseSplit/sub05/EP12_03f/26.png',\n",
       " 'D:/Masters project/DenseSplit/sub06/EP01_01/31.png',\n",
       " 'D:/Masters project/DenseSplit/sub06/EP02_31/33.png',\n",
       " 'D:/Masters project/DenseSplit/sub06/EP15_02/24.png',\n",
       " 'D:/Masters project/DenseSplit/sub06/EP16_05/21.png',\n",
       " 'D:/Masters project/DenseSplit/sub07/EP01_01/31.png',\n",
       " 'D:/Masters project/DenseSplit/sub07/EP06_02_01/56.png',\n",
       " 'D:/Masters project/DenseSplit/sub07/EP06_02_02/46.png',\n",
       " 'D:/Masters project/DenseSplit/sub07/EP08_02/34.png',\n",
       " 'D:/Masters project/DenseSplit/sub07/EP15_01/29.png',\n",
       " 'D:/Masters project/DenseSplit/sub08/EP13_01f/38.png',\n",
       " 'D:/Masters project/DenseSplit/sub09/EP02_01f/54.png',\n",
       " 'D:/Masters project/DenseSplit/sub09/EP05_05/39.png',\n",
       " 'D:/Masters project/DenseSplit/sub09/EP06_01f/79.png',\n",
       " 'D:/Masters project/DenseSplit/sub09/EP06_02f/66.png',\n",
       " 'D:/Masters project/DenseSplit/sub09/EP09_04/46.png',\n",
       " 'D:/Masters project/DenseSplit/sub09/EP09_05/56.png',\n",
       " 'D:/Masters project/DenseSplit/sub09/EP09f/39.png',\n",
       " 'D:/Masters project/DenseSplit/sub09/EP13_01/44.png',\n",
       " 'D:/Masters project/DenseSplit/sub09/EP15_05/36.png',\n",
       " 'D:/Masters project/DenseSplit/sub09/EP17_08/36.png',\n",
       " 'D:/Masters project/DenseSplit/sub11/EP08_01f/26.png',\n",
       " 'D:/Masters project/DenseSplit/sub11/EP13_02f/61.png',\n",
       " 'D:/Masters project/DenseSplit/sub11/EP13_03f/44.png',\n",
       " 'D:/Masters project/DenseSplit/sub11/EP13_05f/46.png',\n",
       " 'D:/Masters project/DenseSplit/sub12/EP01_02/69.png',\n",
       " 'D:/Masters project/DenseSplit/sub12/EP02_05/21.png',\n",
       " 'D:/Masters project/DenseSplit/sub12/EP03_04/70.png',\n",
       " 'D:/Masters project/DenseSplit/sub12/EP04_16/21.png',\n",
       " 'D:/Masters project/DenseSplit/sub12/EP06_06/41.png',\n",
       " 'D:/Masters project/DenseSplit/sub12/EP08_01/36.png',\n",
       " 'D:/Masters project/DenseSplit/sub12/EP08_03/39.png',\n",
       " 'D:/Masters project/DenseSplit/sub12/EP08_07/24.png',\n",
       " 'D:/Masters project/DenseSplit/sub12/EP09_02/44.png',\n",
       " 'D:/Masters project/DenseSplit/sub12/EP16_02/54.png',\n",
       " 'D:/Masters project/DenseSplit/sub13/EP03_01/56.png',\n",
       " 'D:/Masters project/DenseSplit/sub13/EP09_10/26.png',\n",
       " 'D:/Masters project/DenseSplit/sub14/EP09_03/24.png',\n",
       " 'D:/Masters project/DenseSplit/sub14/EP09_04/51.png',\n",
       " 'D:/Masters project/DenseSplit/sub14/EP09_06/49.png',\n",
       " 'D:/Masters project/DenseSplit/sub15/EP03_02/34.png',\n",
       " 'D:/Masters project/DenseSplit/sub15/EP04_02/26.png',\n",
       " 'D:/Masters project/DenseSplit/sub15/EP08_02/34.png',\n",
       " 'D:/Masters project/DenseSplit/sub16/EP01_05/41.png',\n",
       " 'D:/Masters project/DenseSplit/sub16/EP01_08/22.png',\n",
       " 'D:/Masters project/DenseSplit/sub16/EP04_02f/89.png',\n",
       " 'D:/Masters project/DenseSplit/sub17/EP01_06/6.png',\n",
       " 'D:/Masters project/DenseSplit/sub17/EP01_13/59.png',\n",
       " 'D:/Masters project/DenseSplit/sub17/EP01_15/16.png',\n",
       " 'D:/Masters project/DenseSplit/sub17/EP02_01/29.png',\n",
       " 'D:/Masters project/DenseSplit/sub17/EP02_03/29.png',\n",
       " 'D:/Masters project/DenseSplit/sub17/EP02_11/21.png',\n",
       " 'D:/Masters project/DenseSplit/sub17/EP02_18f/44.png',\n",
       " 'D:/Masters project/DenseSplit/sub17/EP03_02/22.png',\n",
       " 'D:/Masters project/DenseSplit/sub17/EP03_09/37.png',\n",
       " 'D:/Masters project/DenseSplit/sub17/EP05_02/67.png',\n",
       " 'D:/Masters project/DenseSplit/sub17/EP05_03/36.png',\n",
       " 'D:/Masters project/DenseSplit/sub17/EP05_03f/49.png',\n",
       " 'D:/Masters project/DenseSplit/sub17/EP05_04/34.png',\n",
       " 'D:/Masters project/DenseSplit/sub17/EP05_09/24.png',\n",
       " 'D:/Masters project/DenseSplit/sub17/EP05_10/19.png',\n",
       " 'D:/Masters project/DenseSplit/sub17/EP06_04/21.png',\n",
       " 'D:/Masters project/DenseSplit/sub17/EP06_07/10.png',\n",
       " 'D:/Masters project/DenseSplit/sub17/EP06_08/39.png',\n",
       " 'D:/Masters project/DenseSplit/sub17/EP07_01/51.png',\n",
       " 'D:/Masters project/DenseSplit/sub17/EP08_02/46.png',\n",
       " 'D:/Masters project/DenseSplit/sub17/EP10_06/18.png',\n",
       " 'D:/Masters project/DenseSplit/sub17/EP11_01/23.png',\n",
       " 'D:/Masters project/DenseSplit/sub17/EP11_02/46.png',\n",
       " 'D:/Masters project/DenseSplit/sub17/EP12_03/26.png',\n",
       " 'D:/Masters project/DenseSplit/sub17/EP13_03/29.png',\n",
       " 'D:/Masters project/DenseSplit/sub17/EP13_04/19.png',\n",
       " 'D:/Masters project/DenseSplit/sub17/EP13_06/24.png',\n",
       " 'D:/Masters project/DenseSplit/sub17/EP13_09/41.png',\n",
       " 'D:/Masters project/DenseSplit/sub17/EP15_04/23.png',\n",
       " 'D:/Masters project/DenseSplit/sub17/EP16_01f/22.png',\n",
       " 'D:/Masters project/DenseSplit/sub17/EP18_07/34.png',\n",
       " 'D:/Masters project/DenseSplit/sub19/EP01_01f/69.png',\n",
       " 'D:/Masters project/DenseSplit/sub19/EP01_02f/26.png',\n",
       " 'D:/Masters project/DenseSplit/sub19/EP02_01/29.png',\n",
       " 'D:/Masters project/DenseSplit/sub19/EP06_01f/29.png',\n",
       " 'D:/Masters project/DenseSplit/sub19/EP08_02/44.png',\n",
       " 'D:/Masters project/DenseSplit/sub19/EP11_04f/21.png',\n",
       " 'D:/Masters project/DenseSplit/sub19/EP13_01/34.png',\n",
       " 'D:/Masters project/DenseSplit/sub19/EP16_01/24.png',\n",
       " 'D:/Masters project/DenseSplit/sub19/EP16_02/19.png',\n",
       " 'D:/Masters project/DenseSplit/sub19/EP19_02/24.png',\n",
       " 'D:/Masters project/DenseSplit/sub19/EP19_03/31.png',\n",
       " 'D:/Masters project/DenseSplit/sub20/EP01_03/26.png',\n",
       " 'D:/Masters project/DenseSplit/sub20/EP06_03/19.png',\n",
       " 'D:/Masters project/DenseSplit/sub21/EP05_02/31.png',\n",
       " 'D:/Masters project/DenseSplit/sub22/EP01_12/70.png',\n",
       " 'D:/Masters project/DenseSplit/sub22/EP13_08/66.png',\n",
       " 'D:/Masters project/DenseSplit/sub23/EP02_01/51.png',\n",
       " 'D:/Masters project/DenseSplit/sub23/EP03_14f/41.png',\n",
       " 'D:/Masters project/DenseSplit/sub23/EP04_03f/76.png',\n",
       " 'D:/Masters project/DenseSplit/sub23/EP05_24f/36.png',\n",
       " 'D:/Masters project/DenseSplit/sub23/EP05_25f/36.png',\n",
       " 'D:/Masters project/DenseSplit/sub23/EP12_02f/39.png',\n",
       " 'D:/Masters project/DenseSplit/sub23/EP12_03/44.png',\n",
       " 'D:/Masters project/DenseSplit/sub23/EP13_04/21.png',\n",
       " 'D:/Masters project/DenseSplit/sub24/EP01_08/37.png',\n",
       " 'D:/Masters project/DenseSplit/sub24/EP02_02f/24.png',\n",
       " 'D:/Masters project/DenseSplit/sub24/EP07_01/18.png',\n",
       " 'D:/Masters project/DenseSplit/sub24/EP07_04f/21.png',\n",
       " 'D:/Masters project/DenseSplit/sub24/EP10_03/23.png',\n",
       " 'D:/Masters project/DenseSplit/sub24/EP18_03/24.png',\n",
       " 'D:/Masters project/DenseSplit/sub25/EP09_02/26.png',\n",
       " 'D:/Masters project/DenseSplit/sub25/EP10_01/29.png',\n",
       " 'D:/Masters project/DenseSplit/sub25/EP10_10/31.png',\n",
       " 'D:/Masters project/DenseSplit/sub25/EP12_01/21.png',\n",
       " 'D:/Masters project/DenseSplit/sub26/EP03_10/34.png',\n",
       " 'D:/Masters project/DenseSplit/sub26/EP09_04/26.png',\n",
       " 'D:/Masters project/DenseSplit/sub26/EP09_09/31.png',\n",
       " 'D:/Masters project/DenseSplit/sub26/EP13_02/23.png',\n",
       " 'D:/Masters project/DenseSplit/sub26/EP13_11/40.png',\n",
       " 'D:/Masters project/DenseSplit/sub26/EP16_01/29.png',\n",
       " 'D:/Masters project/DenseSplit/sub26/EP18_44/26.png',\n",
       " 'D:/Masters project/DenseSplit/sub26/EP18_47/44.png',\n",
       " 'D:/Masters project/DenseSplit/sub26/EP18_49/39.png',\n",
       " 'D:/Masters project/DenseSplit/sub26/EP18_50/22.png',\n",
       " 'D:/Masters project/DenseSplit/sub26/EP18_51/44.png']"
      ]
     },
     "execution_count": 81,
     "metadata": {},
     "output_type": "execute_result"
    }
   ],
   "source": [
    "pathd\n"
   ]
  },
  {
   "cell_type": "code",
   "execution_count": 82,
   "metadata": {},
   "outputs": [
    {
     "data": {
      "text/plain": [
       "(148,)"
      ]
     },
     "execution_count": 82,
     "metadata": {},
     "output_type": "execute_result"
    }
   ],
   "source": [
    "#pathd=np.reshape(pathd,(255,-1))\n",
    "pathd=np.array(pathd)\n",
    "pathd.shape"
   ]
  },
  {
   "cell_type": "code",
   "execution_count": 83,
   "metadata": {},
   "outputs": [],
   "source": [
    "#pathd[0]"
   ]
  },
  {
   "cell_type": "code",
   "execution_count": 84,
   "metadata": {},
   "outputs": [],
   "source": [
    "#extracting the label paths\n",
    "label=[]\n",
    "for l in range(len(df[8])):\n",
    "    label.append(df.iloc[l,8])\n",
    "#df[8].unique()"
   ]
  },
  {
   "cell_type": "code",
   "execution_count": 85,
   "metadata": {},
   "outputs": [
    {
     "data": {
      "text/plain": [
       "150"
      ]
     },
     "execution_count": 85,
     "metadata": {},
     "output_type": "execute_result"
    }
   ],
   "source": [
    "len(label)"
   ]
  },
  {
   "cell_type": "code",
   "execution_count": 19,
   "metadata": {},
   "outputs": [
    {
     "data": {
      "text/plain": [
       "array(['01', '02', '03', '04', '05', '06', '07', '08', '09', '11', '12',\n",
       "       '13', '14', '15', '16', '17', '19', '20', '21', '22', '23', '24',\n",
       "       '25', '26'], dtype=object)"
      ]
     },
     "execution_count": 19,
     "metadata": {},
     "output_type": "execute_result"
    }
   ],
   "source": [
    "subjects"
   ]
  },
  {
   "cell_type": "code",
   "execution_count": 20,
   "metadata": {},
   "outputs": [
    {
     "name": "stdout",
     "output_type": "stream",
     "text": [
      "01\n",
      "02\n",
      "03\n",
      "04\n",
      "05\n",
      "06\n",
      "07\n",
      "08\n",
      "09\n",
      "11\n",
      "12\n",
      "13\n",
      "14\n",
      "15\n",
      "16\n",
      "17\n",
      "19\n",
      "20\n",
      "21\n",
      "22\n",
      "23\n",
      "24\n",
      "25\n",
      "26\n"
     ]
    }
   ],
   "source": [
    "for i in subjects:\n",
    "    print(i)"
   ]
  },
  {
   "cell_type": "code",
   "execution_count": 21,
   "metadata": {},
   "outputs": [
    {
     "data": {
      "text/plain": [
       "array(['happiness', 'disgust', 'disgust', 'repression', 'repression',\n",
       "       'repression', 'repression', 'repression', 'happiness', 'surprise',\n",
       "       'surprise', 'surprise', 'surprise', 'disgust', 'disgust',\n",
       "       'disgust', 'disgust', 'disgust', 'disgust', 'disgust', 'surprise',\n",
       "       'happiness', 'surprise', 'surprise', 'surprise', 'disgust',\n",
       "       'surprise', 'happiness', 'surprise', 'surprise', 'disgust',\n",
       "       'disgust', 'disgust', 'disgust', 'disgust', 'disgust',\n",
       "       'repression', 'happiness', 'happiness', 'repression', 'happiness',\n",
       "       'repression', 'repression', 'happiness', 'repression', 'happiness',\n",
       "       'repression', 'disgust', 'disgust', 'disgust', 'disgust',\n",
       "       'disgust', 'surprise', 'happiness', 'disgust', 'surprise',\n",
       "       'surprise', 'surprise', 'happiness', 'disgust', 'disgust',\n",
       "       'disgust', 'happiness', 'happiness', 'happiness', 'happiness',\n",
       "       'happiness', 'happiness', 'surprise', 'disgust', 'happiness',\n",
       "       'repression', 'happiness', 'happiness', 'surprise', 'happiness',\n",
       "       'disgust', 'disgust', 'disgust', 'repression', 'disgust',\n",
       "       'happiness', 'happiness', 'happiness', 'repression', 'repression',\n",
       "       'repression', 'repression', 'disgust', 'happiness', 'repression',\n",
       "       'disgust', 'disgust', 'repression', 'disgust', 'disgust',\n",
       "       'repression', 'disgust', 'disgust', 'disgust', 'happiness',\n",
       "       'repression', 'disgust', 'disgust', 'happiness', 'happiness',\n",
       "       'surprise', 'surprise', 'happiness', 'surprise', 'disgust',\n",
       "       'disgust', 'disgust', 'surprise', 'surprise', 'disgust', 'disgust',\n",
       "       'repression', 'repression', 'repression', 'happiness', 'disgust',\n",
       "       'repression', 'repression', 'disgust', 'disgust', 'disgust',\n",
       "       'repression', 'disgust', 'disgust', 'surprise', 'surprise',\n",
       "       'surprise', 'surprise', 'disgust', 'disgust', 'surprise',\n",
       "       'surprise', 'disgust', 'happiness', 'disgust', 'disgust',\n",
       "       'happiness', 'disgust', 'disgust', 'disgust', 'disgust', 'disgust',\n",
       "       'disgust', 'disgust'], dtype='<U10')"
      ]
     },
     "execution_count": 21,
     "metadata": {},
     "output_type": "execute_result"
    }
   ],
   "source": [
    "#One-hot encoding of labels\n",
    "l=np.array(label)\n",
    "\n",
    "le = LabelEncoder()\n",
    "le.fit(l)\n",
    "l"
   ]
  },
  {
   "cell_type": "code",
   "execution_count": 22,
   "metadata": {},
   "outputs": [
    {
     "data": {
      "text/plain": [
       "array([1, 0, 0, 2, 2, 2, 2, 2, 1, 3, 3, 3, 3, 0, 0, 0, 0, 0, 0, 0, 3, 1,\n",
       "       3, 3, 3, 0, 3, 1, 3, 3, 0, 0, 0, 0, 0, 0, 2, 1, 1, 2, 1, 2, 2, 1,\n",
       "       2, 1, 2, 0, 0, 0, 0, 0, 3, 1, 0, 3, 3, 3, 1, 0, 0, 0, 1, 1, 1, 1,\n",
       "       1, 1, 3, 0, 1, 2, 1, 1, 3, 1, 0, 0, 0, 2, 0, 1, 1, 1, 2, 2, 2, 2,\n",
       "       0, 1, 2, 0, 0, 2, 0, 0, 2, 0, 0, 0, 1, 2, 0, 0, 1, 1, 3, 3, 1, 3,\n",
       "       0, 0, 0, 3, 3, 0, 0, 2, 2, 2, 1, 0, 2, 2, 0, 0, 0, 2, 0, 0, 3, 3,\n",
       "       3, 3, 0, 0, 3, 3, 0, 1, 0, 0, 1, 0, 0, 0, 0, 0, 0, 0])"
      ]
     },
     "execution_count": 22,
     "metadata": {},
     "output_type": "execute_result"
    }
   ],
   "source": [
    "integer_encoded= le.transform(l)\n",
    "integer_encoded"
   ]
  },
  {
   "cell_type": "code",
   "execution_count": 23,
   "metadata": {},
   "outputs": [
    {
     "data": {
      "text/plain": [
       "array(['disgust', 'happiness', 'repression', 'surprise'], dtype='<U10')"
      ]
     },
     "execution_count": 23,
     "metadata": {},
     "output_type": "execute_result"
    }
   ],
   "source": [
    "le.classes_"
   ]
  },
  {
   "cell_type": "code",
   "execution_count": 24,
   "metadata": {},
   "outputs": [
    {
     "data": {
      "text/plain": [
       "array([[0., 1., 0., 0.],\n",
       "       [1., 0., 0., 0.],\n",
       "       [1., 0., 0., 0.],\n",
       "       [0., 0., 1., 0.],\n",
       "       [0., 0., 1., 0.],\n",
       "       [0., 0., 1., 0.],\n",
       "       [0., 0., 1., 0.],\n",
       "       [0., 0., 1., 0.],\n",
       "       [0., 1., 0., 0.],\n",
       "       [0., 0., 0., 1.],\n",
       "       [0., 0., 0., 1.],\n",
       "       [0., 0., 0., 1.],\n",
       "       [0., 0., 0., 1.],\n",
       "       [1., 0., 0., 0.],\n",
       "       [1., 0., 0., 0.],\n",
       "       [1., 0., 0., 0.],\n",
       "       [1., 0., 0., 0.],\n",
       "       [1., 0., 0., 0.],\n",
       "       [1., 0., 0., 0.],\n",
       "       [1., 0., 0., 0.],\n",
       "       [0., 0., 0., 1.],\n",
       "       [0., 1., 0., 0.],\n",
       "       [0., 0., 0., 1.],\n",
       "       [0., 0., 0., 1.],\n",
       "       [0., 0., 0., 1.],\n",
       "       [1., 0., 0., 0.],\n",
       "       [0., 0., 0., 1.],\n",
       "       [0., 1., 0., 0.],\n",
       "       [0., 0., 0., 1.],\n",
       "       [0., 0., 0., 1.],\n",
       "       [1., 0., 0., 0.],\n",
       "       [1., 0., 0., 0.],\n",
       "       [1., 0., 0., 0.],\n",
       "       [1., 0., 0., 0.],\n",
       "       [1., 0., 0., 0.],\n",
       "       [1., 0., 0., 0.],\n",
       "       [0., 0., 1., 0.],\n",
       "       [0., 1., 0., 0.],\n",
       "       [0., 1., 0., 0.],\n",
       "       [0., 0., 1., 0.],\n",
       "       [0., 1., 0., 0.],\n",
       "       [0., 0., 1., 0.],\n",
       "       [0., 0., 1., 0.],\n",
       "       [0., 1., 0., 0.],\n",
       "       [0., 0., 1., 0.],\n",
       "       [0., 1., 0., 0.],\n",
       "       [0., 0., 1., 0.],\n",
       "       [1., 0., 0., 0.],\n",
       "       [1., 0., 0., 0.],\n",
       "       [1., 0., 0., 0.],\n",
       "       [1., 0., 0., 0.],\n",
       "       [1., 0., 0., 0.],\n",
       "       [0., 0., 0., 1.],\n",
       "       [0., 1., 0., 0.],\n",
       "       [1., 0., 0., 0.],\n",
       "       [0., 0., 0., 1.],\n",
       "       [0., 0., 0., 1.],\n",
       "       [0., 0., 0., 1.],\n",
       "       [0., 1., 0., 0.],\n",
       "       [1., 0., 0., 0.],\n",
       "       [1., 0., 0., 0.],\n",
       "       [1., 0., 0., 0.],\n",
       "       [0., 1., 0., 0.],\n",
       "       [0., 1., 0., 0.],\n",
       "       [0., 1., 0., 0.],\n",
       "       [0., 1., 0., 0.],\n",
       "       [0., 1., 0., 0.],\n",
       "       [0., 1., 0., 0.],\n",
       "       [0., 0., 0., 1.],\n",
       "       [1., 0., 0., 0.],\n",
       "       [0., 1., 0., 0.],\n",
       "       [0., 0., 1., 0.],\n",
       "       [0., 1., 0., 0.],\n",
       "       [0., 1., 0., 0.],\n",
       "       [0., 0., 0., 1.],\n",
       "       [0., 1., 0., 0.],\n",
       "       [1., 0., 0., 0.],\n",
       "       [1., 0., 0., 0.],\n",
       "       [1., 0., 0., 0.],\n",
       "       [0., 0., 1., 0.],\n",
       "       [1., 0., 0., 0.],\n",
       "       [0., 1., 0., 0.],\n",
       "       [0., 1., 0., 0.],\n",
       "       [0., 1., 0., 0.],\n",
       "       [0., 0., 1., 0.],\n",
       "       [0., 0., 1., 0.],\n",
       "       [0., 0., 1., 0.],\n",
       "       [0., 0., 1., 0.],\n",
       "       [1., 0., 0., 0.],\n",
       "       [0., 1., 0., 0.],\n",
       "       [0., 0., 1., 0.],\n",
       "       [1., 0., 0., 0.],\n",
       "       [1., 0., 0., 0.],\n",
       "       [0., 0., 1., 0.],\n",
       "       [1., 0., 0., 0.],\n",
       "       [1., 0., 0., 0.],\n",
       "       [0., 0., 1., 0.],\n",
       "       [1., 0., 0., 0.],\n",
       "       [1., 0., 0., 0.],\n",
       "       [1., 0., 0., 0.],\n",
       "       [0., 1., 0., 0.],\n",
       "       [0., 0., 1., 0.],\n",
       "       [1., 0., 0., 0.],\n",
       "       [1., 0., 0., 0.],\n",
       "       [0., 1., 0., 0.],\n",
       "       [0., 1., 0., 0.],\n",
       "       [0., 0., 0., 1.],\n",
       "       [0., 0., 0., 1.],\n",
       "       [0., 1., 0., 0.],\n",
       "       [0., 0., 0., 1.],\n",
       "       [1., 0., 0., 0.],\n",
       "       [1., 0., 0., 0.],\n",
       "       [1., 0., 0., 0.],\n",
       "       [0., 0., 0., 1.],\n",
       "       [0., 0., 0., 1.],\n",
       "       [1., 0., 0., 0.],\n",
       "       [1., 0., 0., 0.],\n",
       "       [0., 0., 1., 0.],\n",
       "       [0., 0., 1., 0.],\n",
       "       [0., 0., 1., 0.],\n",
       "       [0., 1., 0., 0.],\n",
       "       [1., 0., 0., 0.],\n",
       "       [0., 0., 1., 0.],\n",
       "       [0., 0., 1., 0.],\n",
       "       [1., 0., 0., 0.],\n",
       "       [1., 0., 0., 0.],\n",
       "       [1., 0., 0., 0.],\n",
       "       [0., 0., 1., 0.],\n",
       "       [1., 0., 0., 0.],\n",
       "       [1., 0., 0., 0.],\n",
       "       [0., 0., 0., 1.],\n",
       "       [0., 0., 0., 1.],\n",
       "       [0., 0., 0., 1.],\n",
       "       [0., 0., 0., 1.],\n",
       "       [1., 0., 0., 0.],\n",
       "       [1., 0., 0., 0.],\n",
       "       [0., 0., 0., 1.],\n",
       "       [0., 0., 0., 1.],\n",
       "       [1., 0., 0., 0.],\n",
       "       [0., 1., 0., 0.],\n",
       "       [1., 0., 0., 0.],\n",
       "       [1., 0., 0., 0.],\n",
       "       [0., 1., 0., 0.],\n",
       "       [1., 0., 0., 0.],\n",
       "       [1., 0., 0., 0.],\n",
       "       [1., 0., 0., 0.],\n",
       "       [1., 0., 0., 0.],\n",
       "       [1., 0., 0., 0.],\n",
       "       [1., 0., 0., 0.],\n",
       "       [1., 0., 0., 0.]])"
      ]
     },
     "execution_count": 24,
     "metadata": {},
     "output_type": "execute_result"
    }
   ],
   "source": [
    "integer_encoded = integer_encoded.reshape(len(integer_encoded), 1)\n",
    "#integer_encoded1 = integer_encoded1.reshape(len(integer_encoded1), 1)\n",
    "onehot_encoder = OneHotEncoder(sparse=False)\n",
    "\n",
    "onehot_encoder.fit(integer_encoded)\n",
    "\n",
    "label= onehot_encoder.transform(integer_encoded)\n",
    "label"
   ]
  },
  {
   "cell_type": "code",
   "execution_count": 25,
   "metadata": {
    "scrolled": false
   },
   "outputs": [
    {
     "name": "stdout",
     "output_type": "stream",
     "text": [
      "TEST SUBJECT: sub01\n"
     ]
    },
    {
     "ename": "IndexError",
     "evalue": "index 148 is out of bounds for axis 0 with size 148",
     "output_type": "error",
     "traceback": [
      "\u001b[1;31m---------------------------------------------------------------------------\u001b[0m",
      "\u001b[1;31mIndexError\u001b[0m                                Traceback (most recent call last)",
      "\u001b[1;32m<ipython-input-25-b43a8556df01>\u001b[0m in \u001b[0;36m<module>\u001b[1;34m\u001b[0m\n\u001b[0;32m     16\u001b[0m \u001b[1;33m\u001b[0m\u001b[0m\n\u001b[0;32m     17\u001b[0m     \u001b[1;32mfor\u001b[0m \u001b[0mlt\u001b[0m \u001b[1;32min\u001b[0m \u001b[0mrange\u001b[0m\u001b[1;33m(\u001b[0m\u001b[0mlen\u001b[0m\u001b[1;33m(\u001b[0m\u001b[0mlabel\u001b[0m\u001b[1;33m)\u001b[0m\u001b[1;33m)\u001b[0m\u001b[1;33m:\u001b[0m\u001b[1;33m\u001b[0m\u001b[1;33m\u001b[0m\u001b[0m\n\u001b[1;32m---> 18\u001b[1;33m         \u001b[1;32mif\u001b[0m \u001b[0mcurSubject\u001b[0m \u001b[1;32min\u001b[0m \u001b[0mpathd\u001b[0m\u001b[1;33m[\u001b[0m\u001b[0mlt\u001b[0m\u001b[1;33m]\u001b[0m\u001b[1;33m:\u001b[0m\u001b[1;33m\u001b[0m\u001b[1;33m\u001b[0m\u001b[0m\n\u001b[0m\u001b[0;32m     19\u001b[0m             \u001b[0my_test\u001b[0m\u001b[1;33m.\u001b[0m\u001b[0mappend\u001b[0m\u001b[1;33m(\u001b[0m\u001b[0mlabel\u001b[0m\u001b[1;33m[\u001b[0m\u001b[0mlt\u001b[0m\u001b[1;33m]\u001b[0m\u001b[1;33m)\u001b[0m\u001b[1;33m\u001b[0m\u001b[1;33m\u001b[0m\u001b[0m\n\u001b[0;32m     20\u001b[0m             \u001b[0mX_test\u001b[0m\u001b[1;33m.\u001b[0m\u001b[0mappend\u001b[0m\u001b[1;33m(\u001b[0m\u001b[0mpathd\u001b[0m\u001b[1;33m[\u001b[0m\u001b[0mlt\u001b[0m\u001b[1;33m]\u001b[0m\u001b[1;33m)\u001b[0m\u001b[1;33m\u001b[0m\u001b[1;33m\u001b[0m\u001b[0m\n",
      "\u001b[1;31mIndexError\u001b[0m: index 148 is out of bounds for axis 0 with size 148"
     ]
    }
   ],
   "source": [
    "#Leave one subject out training and testing\n",
    "\n",
    "allTesting = []\n",
    "allTraining=[]\n",
    "Test_ground=[]\n",
    "Train_ground=[]\n",
    "\n",
    "for sindex in subjects: # range(len(subjects)):\n",
    "    curSubject = \"sub\" + sindex\n",
    "    print(\"TEST SUBJECT:\", curSubject)\n",
    "    #start = timeit.timeit()\n",
    "    y_train=[]\n",
    "    y_test=[]\n",
    "    X_train=[]\n",
    "    X_test=[]\n",
    "\n",
    "    for lt in range(len(label)):\n",
    "        if curSubject in pathd[lt]:\n",
    "            y_test.append(label[lt])\n",
    "            X_test.append(pathd[lt])\n",
    "        else:\n",
    "            y_train.append(label[lt])\n",
    "            X_train.append(pathd[lt])\n",
    "        \n",
    "    X_train=np.array(X_train)\n",
    "    X_test=np.array(X_test)\n",
    "    y_train=np.array(y_train)\n",
    "    y_test=np.array(y_test)\n",
    "    print(len(X_train))\n",
    "    print(len(X_test))\n",
    "    with multiprocess.Manager() as manager:\n",
    "        final_results = manager.dict()\n",
    "        process_eval = multiprocess.Process(target=runTraining, args=(X_train, X_test, y_train, y_test,final_results))\n",
    "        process_eval.start()\n",
    "        process_eval.join()\n",
    "        allTesting.extend(final_results.get(\"test\"))\n",
    "        allTraining.extend(final_results.get(\"train\"))\n",
    "        Train_ground.extend(final_results.get(\"train_ground\"))\n",
    "        Test_ground.extend(final_results.get(\"test_ground\")) \n",
    "    #end = timeit.timeit()\n",
    "    #print(end - start)\n",
    "    #test1=final_results[\"test\"]\n",
    "    #allTesting.append(test1)\n",
    "    \n",
    "\n",
    "\n",
    "\n"
   ]
  },
  {
   "cell_type": "code",
   "execution_count": null,
   "metadata": {},
   "outputs": [],
   "source": [
    "allTesting"
   ]
  },
  {
   "cell_type": "code",
   "execution_count": null,
   "metadata": {},
   "outputs": [],
   "source": [
    "allTesting = np.array(allTesting)\n",
    "allTraining=np.array(allTraining)\n",
    "Train_ground=np.array(Train_ground)\n",
    "Test_ground=np.array(Test_ground)"
   ]
  },
  {
   "cell_type": "code",
   "execution_count": null,
   "metadata": {},
   "outputs": [],
   "source": [
    "num_classes=3\n",
    "allTesting=np.reshape(allTesting,(-1,))\n",
    "allTraining=np.reshape(allTraining,(-1,))\n",
    "Train_ground=np.reshape(Train_ground,(-1,))\n",
    "Test_ground=np.reshape(Test_ground,(-1,))"
   ]
  },
  {
   "cell_type": "code",
   "execution_count": null,
   "metadata": {
    "scrolled": true
   },
   "outputs": [],
   "source": [
    "allTraining.shape"
   ]
  },
  {
   "cell_type": "code",
   "execution_count": null,
   "metadata": {},
   "outputs": [],
   "source": [
    "    allTesting.shape"
   ]
  },
  {
   "cell_type": "code",
   "execution_count": null,
   "metadata": {},
   "outputs": [],
   "source": [
    "from sklearn.metrics import accuracy_score,confusion_matrix\n",
    "import seaborn as sns"
   ]
  },
  {
   "cell_type": "code",
   "execution_count": null,
   "metadata": {},
   "outputs": [],
   "source": [
    "#confusion Matrix\n",
    "test_cmat = confusion_matrix(Test_ground, allTesting,labels=list(range(len(le.classes_))))\n",
    "print(test_cmat)"
   ]
  },
  {
   "cell_type": "code",
   "execution_count": null,
   "metadata": {},
   "outputs": [],
   "source": [
    "train_cmat = confusion_matrix(Train_ground, allTraining,labels=list(range(len(le.classes_))))\n",
    "print(train_cmat)"
   ]
  },
  {
   "cell_type": "code",
   "execution_count": null,
   "metadata": {},
   "outputs": [],
   "source": [
    "sns.heatmap(test_cmat, cmap=\"Blues\", annot=True)"
   ]
  },
  {
   "cell_type": "code",
   "execution_count": null,
   "metadata": {},
   "outputs": [],
   "source": [
    "sns.heatmap(train_cmat, cmap=\"Blues\",annot=True)"
   ]
  },
  {
   "cell_type": "code",
   "execution_count": null,
   "metadata": {},
   "outputs": [],
   "source": [
    "accuracy_score(Test_ground, allTesting)"
   ]
  },
  {
   "cell_type": "code",
   "execution_count": null,
   "metadata": {},
   "outputs": [],
   "source": [
    "accuracy_score(Train_ground, allTraining)"
   ]
  },
  {
   "cell_type": "code",
   "execution_count": null,
   "metadata": {},
   "outputs": [],
   "source": [
    "df_cm = pd.DataFrame(test_cmat, columns=le.classes_, index = list(range(len(le.classes_))))"
   ]
  },
  {
   "cell_type": "code",
   "execution_count": null,
   "metadata": {},
   "outputs": [],
   "source": [
    "plt.figure(figsize = (10,7))\n",
    "sns.set(font_scale=1.4)#for label size\n",
    "sns.heatmap(df_cm, cmap=\"Blues\", annot=True,annot_kws={\"size\": 16})"
   ]
  },
  {
   "cell_type": "code",
   "execution_count": null,
   "metadata": {},
   "outputs": [],
   "source": [
    "df_cm1 = pd.DataFrame(train_cmat, columns=le.classes_, index = list(range(len(le.classes_))))"
   ]
  },
  {
   "cell_type": "code",
   "execution_count": null,
   "metadata": {},
   "outputs": [],
   "source": [
    "plt.figure(figsize = (10,7))\n",
    "sns.set(font_scale=1.4)#for label size\n",
    "sns.heatmap(df_cm1, cmap=\"Blues\", annot=True,annot_kws={\"size\": 16})"
   ]
  },
  {
   "cell_type": "code",
   "execution_count": null,
   "metadata": {},
   "outputs": [],
   "source": []
  }
 ],
 "metadata": {
  "kernelspec": {
   "display_name": "Python 3",
   "language": "python",
   "name": "python3"
  },
  "language_info": {
   "codemirror_mode": {
    "name": "ipython",
    "version": 3
   },
   "file_extension": ".py",
   "mimetype": "text/x-python",
   "name": "python",
   "nbconvert_exporter": "python",
   "pygments_lexer": "ipython3",
   "version": "3.7.4"
  }
 },
 "nbformat": 4,
 "nbformat_minor": 2
}
